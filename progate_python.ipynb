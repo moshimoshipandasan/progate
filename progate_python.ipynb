{
  "nbformat": 4,
  "nbformat_minor": 0,
  "metadata": {
    "colab": {
      "name": "progate_python.ipynb",
      "provenance": [],
      "collapsed_sections": [],
      "authorship_tag": "ABX9TyPnBuk/0aaGkYRCwC4ePYBm",
      "include_colab_link": true
    },
    "kernelspec": {
      "name": "python3",
      "display_name": "Python 3"
    },
    "language_info": {
      "name": "python"
    }
  },
  "cells": [
    {
      "cell_type": "markdown",
      "metadata": {
        "id": "view-in-github",
        "colab_type": "text"
      },
      "source": [
        "<a href=\"https://colab.research.google.com/github/moshimoshipandasan/progate/blob/main/progate_python.ipynb\" target=\"_parent\"><img src=\"https://colab.research.google.com/assets/colab-badge.svg\" alt=\"Open In Colab\"/></a>"
      ]
    },
    {
      "cell_type": "markdown",
      "source": [
        "参考 とほほのPython入門\n",
        "https://www.tohoho-web.com/python/\n",
        "\n"
      ],
      "metadata": {
        "id": "tRyQRz7tb9oD"
      }
    },
    {
      "cell_type": "markdown",
      "source": [
        "値の表示"
      ],
      "metadata": {
        "id": "3v8E2aHPbkYV"
      }
    },
    {
      "cell_type": "code",
      "execution_count": null,
      "metadata": {
        "id": "fFf8Ev9ZbYbI"
      },
      "outputs": [],
      "source": [
        "print('hello world')"
      ]
    },
    {
      "cell_type": "markdown",
      "source": [
        "文字列と数値"
      ],
      "metadata": {
        "id": "Miqx0_j0bm1M"
      }
    },
    {
      "cell_type": "code",
      "source": [
        "print(9 + 3)\n",
        "print('9 + 3')"
      ],
      "metadata": {
        "id": "ebRDfKP3bpxr"
      },
      "execution_count": null,
      "outputs": []
    },
    {
      "cell_type": "markdown",
      "source": [
        "## 算術演算子 代入演算子\n",
        "https://www.tohoho-web.com/python/operators.html\n",
        "\n",
        "Pythonのビット演算の使い方: 左シフト、右シフト、論理積、論理和、排他的論理和、反転など\n",
        "\n",
        "https://yu-nix.com/blog/2021/5/26/python-bit/"
      ],
      "metadata": {
        "id": "7dKyWYM0cZdM"
      }
    },
    {
      "cell_type": "code",
      "source": [
        "print(9 / 2) #割り算\n",
        "print(7 * 3) #掛け算\n",
        "print(9 % 2) #余り\n",
        "print(9 // 2) #商"
      ],
      "metadata": {
        "id": "lyheTKQrct1k"
      },
      "execution_count": null,
      "outputs": []
    },
    {
      "cell_type": "code",
      "source": [
        "money = 2000\n",
        "print(money)\n",
        "\n",
        "# 変数 money に 5000 を足して、変数 money を上書きしてください\n",
        "money += 5000\n",
        "\n",
        "# 変数 money の値を出力してください\n",
        "print(money)"
      ],
      "metadata": {
        "id": "Lgnlwj6seWr0"
      },
      "execution_count": null,
      "outputs": []
    },
    {
      "cell_type": "markdown",
      "source": [
        "文字列の連結※ここからが間違えやすいよ"
      ],
      "metadata": {
        "id": "ucklZkQ0fVFL"
      }
    },
    {
      "cell_type": "code",
      "source": [
        "# my_name という変数に「 にんじゃわんこ 」という文字列を代入してください\n",
        "my_name = 'にんじゃわんこ'\n",
        "\n",
        "# my_name を用いて、「私はにんじゃわんこです」となるように変数と文字列を連結して出力してください\n",
        "print('私は' + my_name + 'です')"
      ],
      "metadata": {
        "id": "62z8A9hSe6L7"
      },
      "execution_count": null,
      "outputs": []
    },
    {
      "cell_type": "markdown",
      "source": [
        "データ型"
      ],
      "metadata": {
        "id": "4HqSsMmbflgL"
      }
    },
    {
      "cell_type": "code",
      "source": [
        "age = 24\n",
        "# age を用いて「私は24歳です」と出力してください\n",
        "print('私は' + str(age) + '歳です')\n",
        "\n",
        "count = '5'\n",
        "# count に 1 を足した値を出力してください\n",
        "print(int(count) + 1)\n"
      ],
      "metadata": {
        "id": "NMAVLjG7fmQr"
      },
      "execution_count": null,
      "outputs": []
    },
    {
      "cell_type": "markdown",
      "source": [
        "比較演算子\n",
        "https://www.tohoho-web.com/python/operators.html#conditional\n",
        "\n",
        "制御構文\n",
        "https://www.tohoho-web.com/python/control.html#if\n",
        "\n"
      ],
      "metadata": {
        "id": "kW8Ji3bOhEbL"
      }
    },
    {
      "cell_type": "code",
      "source": [
        "x = 7 * 10\n",
        "y = 5 * 6\n",
        "\n",
        "# x が 70 と等しい場合に「 xは70です 」と出力してください\n",
        "if x == 70:\n",
        "  print(\"xは70です\")\n",
        "\n",
        "# y が 40 と等しくない場合に「 yは40ではありません 」と出力してください\n",
        "if y != 40:\n",
        "  print(\"yは40ではありません\")"
      ],
      "metadata": {
        "id": "vahRmnB-hC0p"
      },
      "execution_count": null,
      "outputs": []
    },
    {
      "cell_type": "markdown",
      "source": [
        "真偽値（trueとfalse）"
      ],
      "metadata": {
        "id": "8FLMF3Cxjp2F"
      }
    },
    {
      "cell_type": "markdown",
      "source": [
        "条件に合わな場合の処理\n",
        "\n",
        "ブール演算子 https://www.tohoho-web.com/python/operators.html#boolean"
      ],
      "metadata": {
        "id": "JSvGuXFnk3pk"
      }
    },
    {
      "cell_type": "code",
      "source": [
        "x = 20\n",
        "# 変数 x が 10 以上 30 以下の場合に「 xは10以上30以下です 」と出力してください\n",
        "if 10<=x<=30:\n",
        "  print(\"xは10以上30以下です\")\n",
        "\n",
        "\n",
        "y = 60\n",
        "# 変数 y が 10 未満または 30 より大きい場合に「 yは10未満または30より大きいです 」と出力してください\n",
        "if y<10 or y>30:\n",
        "  print(\"yは10未満または30より大きいです\")\n",
        "\n",
        "\n",
        "\n",
        "z = 55\n",
        "# 変数 z が 77 ではない場合に「 zは77ではありません 」と出力してください\n",
        "if not z == 77:\n",
        "  print(\"zは77ではありません\")\n",
        "\n"
      ],
      "metadata": {
        "id": "fGOIMPQan9_1"
      },
      "execution_count": null,
      "outputs": []
    },
    {
      "cell_type": "markdown",
      "source": [
        "お買い物アプリ"
      ],
      "metadata": {
        "id": "Gye5jqXNpbcj"
      }
    },
    {
      "cell_type": "code",
      "source": [
        "# apple_price という変数に数値 200 を代入してください\n",
        "apple_price = 200\n",
        "\n",
        "# count という変数に数値 5 を代入してください\n",
        "count = 5\n",
        "\n",
        "# total_price という変数に、 apple_price と count を掛けたものを代入してください\n",
        "total_price = apple_price * count\n",
        "\n",
        "# 「 購入するりんごの個数は○○個です 」となるように出力してください\n",
        "print(\"購入するりんごの個数は\" + str(count) + \"個です\")\n",
        "\n",
        "# 「 支払い金額は○○円です 」となるように出力してください\n",
        "print(\"支払い金額は\" + str(total_price) + \"円です\")\n"
      ],
      "metadata": {
        "id": "rOTnDWZ1pdV1"
      },
      "execution_count": null,
      "outputs": []
    },
    {
      "cell_type": "markdown",
      "source": [
        "input関数"
      ],
      "metadata": {
        "id": "f0-9GUTeppbV"
      }
    },
    {
      "cell_type": "code",
      "source": [
        "apple_price = 200\n",
        "\n",
        "# input を用いて入力を受け取り、変数 input_count に代入してください\n",
        "input_count = input(\"購入するりんごの個数を入力してください：\")\n",
        "\n",
        "# input_count を数値として代入してください\n",
        "count = int(input_count )\n",
        "total_price = apple_price * count\n",
        "\n",
        "print('購入するりんごの個数は' + str(count) + '個です')\n",
        "print('支払い金額は' + str(total_price) + '円です')"
      ],
      "metadata": {
        "id": "KVH-S5PXpsGl"
      },
      "execution_count": null,
      "outputs": []
    },
    {
      "cell_type": "code",
      "source": [
        "apple_price = 200\n",
        "# 変数 money に数値 1000 を代入してください\n",
        "money = 1000\n",
        "\n",
        "input_count = input('購入するりんごの個数を入力してください：')\n",
        "count = int(input_count)\n",
        "total_price = apple_price * count\n",
        "\n",
        "print('購入するりんごの個数は' + str(count) + '個です')\n",
        "print('支払い金額は' + str(total_price) + '円です')\n",
        "\n",
        "# money と total_price の比較結果によって条件を分岐してください\n",
        "\n",
        "if money > total_price:\n",
        "  print('残金は' + str(count) + '円です')\n",
        "  print('財布が空になりました')\n",
        "elif money == total_price:\n",
        "  print('りんごを' + str(count) + '個買いました')\n",
        "  print('財布が空になりました')\n",
        "else:\n",
        "  print('お金が足りません')\n",
        "  print('りんごを買えませんでした')"
      ],
      "metadata": {
        "id": "JS_MVLG3sNod"
      },
      "execution_count": null,
      "outputs": []
    },
    {
      "cell_type": "markdown",
      "source": [
        "#Python中級編"
      ],
      "metadata": {
        "id": "CHQ_lE-Bv3y-"
      }
    },
    {
      "cell_type": "code",
      "source": [
        "# 変数 fruits に、複数の文字列を要素に持つリストを代入してください\n",
        "\n",
        "fruits = [\"apple\",\"banana\",\"orange\"]\n",
        "# インデックス番号が 0 の要素を出力してください\n",
        "print(fruits[0])\n",
        "# インデックス番号が 2 の要素を文字列と連結して出力してください\n",
        "print(\"好きな果物は\" + fruits[2] + \"です\")"
      ],
      "metadata": {
        "id": "PZ4NFPn6v6zG"
      },
      "execution_count": null,
      "outputs": []
    },
    {
      "cell_type": "code",
      "source": [
        "fruits = ['apple', 'banana', 'orange']\n",
        "\n",
        "# リストの末尾に文字列「 grape 」を追加してください\n",
        "fruits.append(\"grape\")\n",
        "\n",
        "# 変数 fruits に代入したリストを出力してください\n",
        "print(fruits)\n",
        "\n",
        "# インデックス番号が 0 の要素を文字列「 cherry 」に更新してください\n",
        "fruits[0] = \"cherry\"\n",
        "\n",
        "# インデックス番号が 0 の要素を出力してください\n",
        "print(fruits[0])\n"
      ],
      "metadata": {
        "id": "YcCm9eKNwehN"
      },
      "execution_count": null,
      "outputs": []
    },
    {
      "cell_type": "markdown",
      "source": [
        "for文"
      ],
      "metadata": {
        "id": "dLZlI_xUxfRm"
      }
    },
    {
      "cell_type": "code",
      "source": [
        "fruits = ['apple', 'banana', 'orange']\n",
        "\n",
        "# for 文を用いてリストの要素を1つずつ取り出し、「 好きな果物は◯◯です 」と出力してください\n",
        "for fruit in fruits:\n",
        "  print(\"好きな果物は\" + fruit + \"です\")"
      ],
      "metadata": {
        "id": "RBNurJrVxhk-"
      },
      "execution_count": null,
      "outputs": []
    },
    {
      "cell_type": "markdown",
      "source": [
        "辞書"
      ],
      "metadata": {
        "id": "nswdGe4C0tNW"
      }
    },
    {
      "cell_type": "code",
      "source": [
        "# 変数 fruits に辞書を代入してください\n",
        "fruits = {'apple':'りんご','banana':'バナナ'}\n",
        "\n",
        "# 辞書 fruits のキー「 banana 」に対応する値を出力してください\n",
        "print(fruits['banana'])\n",
        "\n",
        "# 辞書 fruits を用いて、「 appleは◯◯という意味です 」となるように出力してください\n",
        "print(\"appleは\"+fruits['apple']+\"という意味です\")\n"
      ],
      "metadata": {
        "id": "oEKslllA0umW"
      },
      "execution_count": null,
      "outputs": []
    },
    {
      "cell_type": "markdown",
      "source": [
        "辞書の要素を更新"
      ],
      "metadata": {
        "id": "MDJxg4zy076G"
      }
    },
    {
      "cell_type": "code",
      "source": [
        "fruits = {'apple': 100, 'banana': 200, 'orange': 400}\n",
        "\n",
        "# キー「 banana 」の値を数値 300 に更新してください\n",
        "fruits[\"banana\"] = 300\n",
        "\n",
        "# キーが「 grape 」、値が数値の 500 の要素を辞書 fruits に追加してください\n",
        "fruits[\"grape\"] = 500\n",
        "\n",
        "# fruits の値を出力してください\n",
        "print(fruits)\n"
      ],
      "metadata": {
        "id": "WBM37tkP1WdP"
      },
      "execution_count": null,
      "outputs": []
    },
    {
      "cell_type": "markdown",
      "source": [
        "辞書の要素を全て取得"
      ],
      "metadata": {
        "id": "-Y1rOGjW1if2"
      }
    },
    {
      "cell_type": "code",
      "source": [
        "fruits = {'apple': 'りんご', 'banana': 'バナナ', 'grape': 'ぶどう'}\n",
        "\n",
        "# for 文を用いて、辞書のキーを1つずつ取り出し、繰り返しの中で「 ◯◯は△△という意味です 」と出力させてください\n",
        "for fruit_key in fruits:\n",
        "  print(fruit_key + \"は\" + fruits[fruit_key] + \"という意味です\")\n"
      ],
      "metadata": {
        "id": "9_d5G7EE2HAW"
      },
      "execution_count": null,
      "outputs": []
    },
    {
      "cell_type": "markdown",
      "source": [
        "while文"
      ],
      "metadata": {
        "id": "l5qhKbJi2Mg3"
      }
    },
    {
      "cell_type": "code",
      "source": [
        "x = 10\n",
        "\n",
        "# while 文を用いて、「変数 x が 0 より大きい」間、繰り返される繰り返し処理を作ってください\n",
        "while x > 0:\n",
        "    # 変数 x を出力してください\n",
        "    print(x)\n",
        "    # 変数 x から 1 引いてください\n",
        "    x -= 1"
      ],
      "metadata": {
        "id": "AV2JUBxk2riX"
      },
      "execution_count": null,
      "outputs": []
    },
    {
      "cell_type": "code",
      "source": [
        "numbers = [765, 921, 777, 256]\n",
        "for number in numbers:\n",
        "    print(number)\n",
        "    # 変数 number が 777 のとき「 777が見つかったので処理を終了します 」と出力した後、処理を終了させてください\n",
        "    if number == 777:\n",
        "        print('777が見つかったので処理を終了します')\n",
        "        break\n",
        "    "
      ],
      "metadata": {
        "id": "Y__a00iA3ImX"
      },
      "execution_count": null,
      "outputs": []
    },
    {
      "cell_type": "markdown",
      "source": [
        "くだもの演習１"
      ],
      "metadata": {
        "id": "a1wO_oEoEW6p"
      }
    },
    {
      "cell_type": "code",
      "source": [
        "# 文字列のキーと数値の値を持つ辞書を作って、変数 items に代入してください\n",
        "items = {'apple':100,'banana':200,'orange':400}\n",
        "\n",
        "# for 文を用いて、辞書 items のキーを1つずつ取り出していく繰り返し処理を作成してください\n",
        "for item_name in items:\n",
        "  print(item_name)\n",
        "    # 「 --------------------------------------------- 」を出力してください\n",
        "print(\"---------------------------------------------\")    \n",
        "    # 「 ◯◯は1個△△円です 」となるように出力してください\n",
        "for item_name in items:\n",
        "  print(item_name + \"は1個\" + str(items[item_name]) + \"円です\")\n",
        "    "
      ],
      "metadata": {
        "id": "3J4uXpuHEZhw"
      },
      "execution_count": null,
      "outputs": []
    },
    {
      "cell_type": "code",
      "source": [
        "items = {'apple': 100, 'banana': 200, 'orange': 400}\n",
        "for item_name in items:\n",
        "    print('--------------------------------------------------')\n",
        "    print(item_name + 'は1個' + str(items[item_name]) + '円です')\n",
        "    \n",
        "    # input を用いて入力を受け取り、変数 input_count に代入してください\n",
        "    input_count = input(\"購入する\" + item_name + \"の個数を入力してください：\")\n",
        "    # キーと変数 input_count を用いて「 購入する◯◯の個数は△△個です 」となるように出力してください\n",
        "    print(\"購入する\" + item_name + \"の個数は\" + input_count + \"個です\")\n",
        "    \n",
        "    # input_count を数値として変数 count に代入してください\n",
        "    count = int (input_count)\n",
        "    # 変数 total_price に果物1個の値段と変数 count を掛けた値を代入してください\n",
        "    total_price = items[item_name] * count\n",
        "    # 変数 total_price と型変換を用いて、「 支払い金額は◯◯円です 」となるように出力してください\n",
        "    print(\"支払い金額は\"+ str(total_price) + \"円です\")"
      ],
      "metadata": {
        "id": "8IQNMUKxH1-x"
      },
      "execution_count": null,
      "outputs": []
    },
    {
      "cell_type": "code",
      "source": [
        "# 変数 money に数値 1000 を代入してください\n",
        "money = 1000\n",
        "\n",
        "items = {'apple': 100, 'banana': 200, 'orange': 400}\n",
        "for item_name in items:\n",
        "    print('--------------------------------------------------')\n",
        "    # 変数 money を用いて「 財布には◯◯円入っています 」のように出力してください\n",
        "    print('財布には' + str(money) + '円入っています')\n",
        "    print(item_name + 'は1個' + str(items[item_name]) + '円です')\n",
        "    \n",
        "    input_count = input('購入する' + item_name + 'の個数を入力してください：')\n",
        "    print('購入する' + item_name + 'の個数は' + input_count + '個です')\n",
        "    \n",
        "    count = int(input_count)\n",
        "    total_price = items[item_name] * count\n",
        "    print('支払い金額は' + str(total_price) + '円です')\n",
        "    \n",
        "    # money と total_price の比較結果によって条件を分岐してください\n",
        "    if money >= total_price:\n",
        "        print(item_name + 'を' + input_count + '個買いました')\n",
        "        money -= total_price\n",
        "    else:\n",
        "        print('お金が足りません')\n",
        "        print(item_name + 'を買えませんでした')"
      ],
      "metadata": {
        "id": "aXuPdI4fMHPT"
      },
      "execution_count": null,
      "outputs": []
    },
    {
      "cell_type": "markdown",
      "source": [
        "次のポイントは残金が０になったら買い物を中止にすることだよ"
      ],
      "metadata": {
        "id": "A5N0UUtiNtch"
      }
    },
    {
      "cell_type": "code",
      "source": [
        "money = 1000\n",
        "items = {'apple': 100, 'banana': 200, 'orange': 400}\n",
        "for item_name in items:\n",
        "    print('--------------------------------------------------')\n",
        "    print('財布には' + str(money) + '円入っています')\n",
        "    print(item_name + 'は1個' + str(items[item_name]) + '円です')\n",
        "    \n",
        "    input_count = input('購入する' + item_name + 'の個数を入力してください：')\n",
        "    print('購入する' + item_name + 'の個数は' + input_count + '個です')\n",
        "    \n",
        "    count = int(input_count)\n",
        "    total_price = items[item_name] * count\n",
        "    print('支払い金額は' + str(total_price) + '円です')\n",
        "    \n",
        "    if money >= total_price:\n",
        "        print(item_name + 'を' + input_count + '個買いました')\n",
        "        money -= total_price\n",
        "        # if 文を用いて、 money の値が 0 のときの条件を分岐してください\n",
        "        if money == 0:\n",
        "          print(\"財布が空になりました\")\n",
        "          break\n",
        "        \n",
        "    else:\n",
        "        print('お金が足りません')\n",
        "        print(item_name + 'を買えませんでした')\n",
        "# 変数 money と型変換を用いて、「 残金は◯◯円です 」となるように出力してください\n",
        "print('残金は' + str(money) + '円です')\n"
      ],
      "metadata": {
        "id": "F2w92oIjNzbR"
      },
      "execution_count": null,
      "outputs": []
    },
    {
      "cell_type": "markdown",
      "source": [
        "#Python上級\n",
        "関数"
      ],
      "metadata": {
        "id": "5-TeHHNPQRmL"
      }
    },
    {
      "cell_type": "code",
      "source": [
        "# 関数 print_hand を定義してください\n",
        "def print_hand():\n",
        "    print('グーを出しました')\n",
        "\n",
        "# 関数 print_hand を呼び出してください\n",
        "print_hand()"
      ],
      "metadata": {
        "id": "99qn9q6aQV_q"
      },
      "execution_count": null,
      "outputs": []
    },
    {
      "cell_type": "code",
      "source": [
        "# 引数を受け取れるようにしてください\n",
        "def print_hand(hand):\n",
        "    # 「 ◯◯を出しました 」と出力されるように書き換えてください\n",
        "    print(hand + 'を出しました')\n",
        "\n",
        "# 引数に文字列「 グー 」を入れてください\n",
        "print_hand('グー')\n",
        "\n",
        "# 引数を文字列「 パー 」として関数 print_hand を呼び出してください\n",
        "print_hand('パー')\n",
        "\n"
      ],
      "metadata": {
        "id": "9vMdOoQ9Q91C"
      },
      "execution_count": null,
      "outputs": []
    },
    {
      "cell_type": "markdown",
      "source": [
        "コンピュータとじゃんけん対戦"
      ],
      "metadata": {
        "id": "9iiTb-ISRCDa"
      }
    },
    {
      "cell_type": "code",
      "source": [
        "# 名前を第2引数で受け取れるようにしてください\n",
        "def print_hand(hand, name):\n",
        "    # 「 ◯◯は□□を出しました 」と出力されるように書き換えてください\n",
        "    print(name + 'は' + hand + 'を出しました')\n",
        "\n",
        "# 第2引数に文字列「 にんじゃわんこ 」を入れてください\n",
        "print_hand('グー', 'にんじゃわんこ')\n",
        "\n",
        "# 第2引数に文字列「 コンピューター 」を入れてください\n",
        "print_hand('パー', 'コンピューター')"
      ],
      "metadata": {
        "id": "sLw86_aKRV9C"
      },
      "execution_count": null,
      "outputs": []
    },
    {
      "cell_type": "markdown",
      "source": [
        "引数の初期値"
      ],
      "metadata": {
        "id": "96rTq6UwRw0q"
      }
    },
    {
      "cell_type": "code",
      "source": [
        "# 仮引数 name の初期値を設定してください\n",
        "def print_hand(hand, name ='ゲスト'):\n",
        "    print(name + 'は' + hand + 'を出しました')\n",
        "\n",
        "# 引数に文字列「 グー 」のみを入れてください\n",
        "print_hand('グー')"
      ],
      "metadata": {
        "id": "ZnH95oGMRW06"
      },
      "execution_count": null,
      "outputs": []
    },
    {
      "cell_type": "markdown",
      "source": [
        "プレイヤーを設定"
      ],
      "metadata": {
        "id": "FPhe-3fqY-2L"
      }
    },
    {
      "cell_type": "code",
      "source": [
        "def print_hand(hand, name='ゲスト'):\n",
        "    print(name + 'は' + hand + 'を出しました')\n",
        "\n",
        "print('じゃんけんをはじめます')\n",
        "\n",
        "# input を用いて入力を受け取り、変数 player_name に代入してください\n",
        "player_name = input('名前を入力してください：')\n",
        "\n",
        "# 変数 player_name の値によって関数 print_hand の呼び出し方を変更してください\n",
        "if player_name == '':\n",
        "    print_hand('グー')\n",
        "else:\n",
        "    print_hand('グー', player_name)"
      ],
      "metadata": {
        "id": "S_KeaVb5ZBOj"
      },
      "execution_count": null,
      "outputs": []
    },
    {
      "cell_type": "markdown",
      "source": [
        "手を選択できるようにする"
      ],
      "metadata": {
        "id": "yByvW4k1ZNRC"
      }
    },
    {
      "cell_type": "code",
      "source": [
        "def print_hand(hand, name='ゲスト'):\n",
        "    # 変数 hands に、複数の文字列を要素に持つリストを代入してください\n",
        "    hands = ['グー', 'チョキ', 'パー']\n",
        "    \n",
        "    # リスト hands を用いて、選択した手が出力されるように書き換えましょう\n",
        "    print(name + 'は' + hands[hand] + 'を出しました')\n",
        "\n",
        "print('じゃんけんをはじめます')\n",
        "player_name = input('名前を入力してください：')\n",
        "# 「 何を出しますか？（0: グー, 1: チョキ, 2: パー） 」と出力してください\n",
        "print('何を出しますか？（0: グー, 1: チョキ, 2: パー）')\n",
        "\n",
        "# input を用いて入力を受け取り、数値に型変換してから変数 player_hand に代入してください\n",
        "player_hand = int(input('数字で入力してください：'))\n",
        "\n",
        "if player_name == '':\n",
        "    # 第1引数を変数 player_hand に書き換えてください\n",
        "    print_hand(player_hand)\n",
        "else:\n",
        "    # 第1引数を変数 player_hand に書き換えてください\n",
        "    print_hand(player_hand, player_name)"
      ],
      "metadata": {
        "id": "0c4Pd7eMZQnb"
      },
      "execution_count": null,
      "outputs": []
    },
    {
      "cell_type": "markdown",
      "source": [
        "グー、チョキ、パー以外を出せないようにする"
      ],
      "metadata": {
        "id": "3NdSnCUMaS-s"
      }
    },
    {
      "cell_type": "code",
      "source": [
        "# 関数 validate を定義してください\n",
        "def validate(hand):\n",
        "    # hand の値によって条件分岐してください\n",
        "    if hand < 0 or hand > 2:\n",
        "        return False\n",
        "    else:\n",
        "        return True\n",
        "\n",
        "def print_hand(hand, name='ゲスト'):\n",
        "    hands = ['グー', 'チョキ', 'パー']\n",
        "    print(name + 'は' + hands[hand] + 'を出しました')\n",
        "\n",
        "print('じゃんけんをはじめます')\n",
        "player_name = input('名前を入力してください：')\n",
        "print('何を出しますか？（0: グー, 1: チョキ, 2: パー）')\n",
        "player_hand = int(input('数字で入力してください：'))\n",
        "\n",
        "# 関数 validate の戻り値が True の場合、以下の if~else 文が実行されるようにしてください\n",
        "if validate(player_hand):\n",
        "    if player_name == '':\n",
        "        print_hand(player_hand)\n",
        "    else:\n",
        "        print_hand(player_hand, player_name)\n",
        "# 関数 validate の戻り値が False の場合「 正しい数値を入力してください 」と出力してください\n",
        "else:\n",
        "    print('正しい数値を入力してください')"
      ],
      "metadata": {
        "id": "TAK0D52kaXWT"
      },
      "execution_count": null,
      "outputs": []
    },
    {
      "cell_type": "markdown",
      "source": [
        "returnの性質"
      ],
      "metadata": {
        "id": "1lYSuchoaidz"
      }
    },
    {
      "cell_type": "code",
      "source": [
        "def validate(hand):\n",
        "    if hand < 0 or hand > 2:\n",
        "        return False\n",
        "    # else を消してインデントを直してください\n",
        "    return True\n",
        "\n",
        "def print_hand(hand, name='ゲスト'):\n",
        "    hands = ['グー', 'チョキ', 'パー']\n",
        "    print(name + 'は' + hands[hand] + 'を出しました')\n",
        "\n",
        "print('じゃんけんをはじめます')\n",
        "player_name = input('名前を入力してください：')\n",
        "print('何を出しますか？（0: グー, 1: チョキ, 2: パー）')\n",
        "player_hand = int(input('数字で入力してください：'))\n",
        "\n",
        "if validate(player_hand):\n",
        "    if player_name == '':\n",
        "        print_hand(player_hand)\n",
        "    else:\n",
        "        print_hand(player_hand, player_name)\n",
        "else:\n",
        "    print('正しい数値を入力してください')\n"
      ],
      "metadata": {
        "id": "7oL9rPMbajN7"
      },
      "execution_count": null,
      "outputs": []
    },
    {
      "cell_type": "markdown",
      "source": [
        "コンピュータはチョキを出す"
      ],
      "metadata": {
        "id": "I370GVWGbRNr"
      }
    },
    {
      "cell_type": "code",
      "source": [
        "def validate(hand):\n",
        "    if hand < 0 or hand > 2:\n",
        "        return False\n",
        "    return True\n",
        "\n",
        "def print_hand(hand, name='ゲスト'):\n",
        "    hands = ['グー', 'チョキ', 'パー']\n",
        "    print(name + 'は' + hands[hand] + 'を出しました')\n",
        "\n",
        "print('じゃんけんをはじめます')\n",
        "player_name = input('名前を入力してください：')\n",
        "print('何を出しますか？（0: グー, 1: チョキ, 2: パー）')\n",
        "player_hand = int(input('数字で入力してください：'))\n",
        "\n",
        "if validate(player_hand):\n",
        "    # 変数 computer_hand に数値 1 を代入してください\n",
        "    computer_hand = 1\n",
        "   \n",
        "    if player_name == '':\n",
        "        print_hand(player_hand)\n",
        "    else:\n",
        "        print_hand(player_hand, player_name)\n",
        "    \n",
        "    # 第1引数を computer_hand 、第2引数を文字列「 コンピューター 」として関数 print_hand を呼び出してください\n",
        "    print_hand(computer_hand, 'コンピューター')\n",
        "\n",
        "else:\n",
        "    print('正しい数値を入力してください')\n"
      ],
      "metadata": {
        "id": "UCjDVGApbUP0"
      },
      "execution_count": null,
      "outputs": []
    },
    {
      "cell_type": "markdown",
      "source": [
        "勝敗自動判定"
      ],
      "metadata": {
        "id": "Om3Bl35-bU5r"
      }
    },
    {
      "cell_type": "code",
      "source": [
        "def validate(hand):\n",
        "    if hand < 0 or hand > 2:\n",
        "        return False\n",
        "    return True\n",
        "\n",
        "def print_hand(hand, name='ゲスト'):\n",
        "    hands = ['グー', 'チョキ', 'パー']\n",
        "    print(name + 'は' + hands[hand] + 'を出しました')\n",
        "\n",
        "# 関数 judge を定義してください\n",
        "def judge(player, computer):\n",
        "    # player と computer の比較結果によって条件を分岐してください\n",
        "    if player == computer:\n",
        "        return '引き分け'\n",
        "    elif player == 0 and computer == 1:\n",
        "        return '勝ち'\n",
        "    elif player == 1 and computer == 2:\n",
        "        return '勝ち'\n",
        "    elif player == 2 and computer == 0:\n",
        "        return '勝ち'\n",
        "    else:\n",
        "        return '負け'\n",
        "\n",
        "print('じゃんけんをはじめます')\n",
        "player_name = input('名前を入力してください：')\n",
        "print('何を出しますか？（0: グー, 1: チョキ, 2: パー）')\n",
        "player_hand = int(input('数字で入力してください：'))\n",
        "\n",
        "if validate(player_hand):\n",
        "    computer_hand = 1\n",
        "   \n",
        "    if player_name == '':\n",
        "        print_hand(player_hand)\n",
        "    else:\n",
        "        print_hand(player_hand, player_name)\n",
        "    \n",
        "    print_hand(computer_hand, 'コンピューター')\n",
        "    \n",
        "    # 変数 result に関数 judge の戻り値を代入してください\n",
        "    result = judge(player_hand, computer_hand)\n",
        "    # 変数 result を出力してください\n",
        "    print('結果は' + result + 'でした')\n",
        "else:\n",
        "    print('正しい数値を入力してください')\n"
      ],
      "metadata": {
        "id": "cQRkD38WbyCE"
      },
      "execution_count": null,
      "outputs": []
    },
    {
      "cell_type": "markdown",
      "source": [
        "#モジュール名.関数名()\n",
        "コードを分けよう（コードが長くなって読みづらくなったら）"
      ],
      "metadata": {
        "id": "wnZsYXxmb7m0"
      }
    },
    {
      "cell_type": "code",
      "source": [
        "#script.py\n",
        "# utils.py をモジュールとして読み込んでください\n",
        "import utils\n",
        "\n",
        "print('じゃんけんをはじめます')\n",
        "player_name = input('名前を入力してください：')\n",
        "print('何を出しますか？（0: グー, 1: チョキ, 2: パー）')\n",
        "player_hand = int(input('数字で入力してください：'))\n",
        "\n",
        "# utils モジュール内の関数 validate を呼び出してください\n",
        "if utils.validate(player_hand):\n",
        "    computer_hand = 1\n",
        "\n",
        "    if player_name == '':\n",
        "        # utils モジュール内の関数 print_hand を呼び出してください\n",
        "        utils.print_hand(player_hand)\n",
        "    else:\n",
        "        # utils モジュール内の関数 print_hand を呼び出してください\n",
        "        utils.print_hand(player_hand, player_name)\n",
        "\n",
        "    # utils モジュール内の関数 print_hand を呼び出してください\n",
        "    utils.print_hand(computer_hand, 'コンピュータ')\n",
        "    \n",
        "    # utils モジュール内の関数 judge を呼び出してください\n",
        "    result = utils.judge(player_hand, computer_hand)\n",
        "    print('結果は' + result + 'でした')\n",
        "else:\n",
        "    print('正しい数値を入力してください')\n",
        "\n",
        "#utils.py\n",
        "# 3つの関数のコードを貼り付けてください\n",
        "def validate(hand):\n",
        "    if hand < 0 or hand > 2:\n",
        "        return False\n",
        "    return True\n",
        "\n",
        "def print_hand(hand, name='ゲスト'):\n",
        "    hands = ['グー', 'チョキ', 'パー']\n",
        "    print(name + 'は' + hands[hand] + 'を出しました')\n",
        "\n",
        "def judge(player, computer):\n",
        "    if player == computer:\n",
        "        return '引き分け'\n",
        "    elif player == 0 and computer == 1:\n",
        "        return '勝ち'\n",
        "    elif player == 1 and computer == 2:\n",
        "        return '勝ち'\n",
        "    elif player == 2 and computer == 0:\n",
        "        return '勝ち'\n",
        "    else:\n",
        "        return '負け'"
      ],
      "metadata": {
        "id": "_Ne5C7qUdOxN"
      },
      "execution_count": null,
      "outputs": []
    },
    {
      "cell_type": "markdown",
      "source": [
        "ライブラリ"
      ],
      "metadata": {
        "id": "WzgCCcardjtU"
      }
    },
    {
      "cell_type": "code",
      "source": [
        "#scripy.py\n",
        "import utils\n",
        "# random モジュールを読み込んでください\n",
        "import random\n",
        "\n",
        "print('じゃんけんをはじめます')\n",
        "player_name = input('名前を入力してください：')\n",
        "print('何を出しますか？（0: グー, 1: チョキ, 2: パー）')\n",
        "player_hand = int(input('数字で入力してください：'))\n",
        "\n",
        "if utils.validate(player_hand):\n",
        "    # randint を用いて 0 から 2 までの数値を取得し、変数 computer_hand に代入してください\n",
        "    computer_hand = random.randint(0, 2)\n",
        "    \n",
        "    if player_name == '':\n",
        "        utils.print_hand(player_hand)\n",
        "    else:\n",
        "        utils.print_hand(player_hand, player_name)\n",
        "\n",
        "    utils.print_hand(computer_hand, 'コンピューター')\n",
        "    \n",
        "    result = utils.judge(player_hand, computer_hand)\n",
        "    print('結果は' + result + 'でした')\n",
        "else:\n",
        "    print('正しい数値を入力してください')\n"
      ],
      "metadata": {
        "id": "tpj_MwkCeKGk"
      },
      "execution_count": null,
      "outputs": []
    },
    {
      "cell_type": "markdown",
      "source": [
        "#クラスとインスタンス"
      ],
      "metadata": {
        "id": "9Zl3q6XqMynz"
      }
    },
    {
      "cell_type": "code",
      "source": [
        "# MenuItem クラスを定義してください\n",
        "class MenuItem:\n",
        "    pass"
      ],
      "metadata": {
        "id": "kCw3N7JzM1uU"
      },
      "execution_count": null,
      "outputs": []
    },
    {
      "cell_type": "code",
      "source": [
        "#インスタンス変数\n",
        "class MenuItem:\n",
        "    pass\n",
        "\n",
        "\n",
        "menu_item1 = MenuItem()\n",
        "\n",
        "menu_item1.name = 'サンドイッチ'\n",
        "print(menu_item1.name)\n",
        "\n",
        "# menu_item1 の price に 500 を代入してください\n",
        "menu_item1.price = 500\n",
        "\n",
        "# menu_item1 の price を出力してください\n",
        "print(menu_item1.price)\n"
      ],
      "metadata": {
        "id": "CiYvpLv5iV5n"
      },
      "execution_count": null,
      "outputs": []
    },
    {
      "cell_type": "code",
      "source": [
        "#複数のインスタンス\n",
        "class MenuItem:\n",
        "    pass\n",
        "\n",
        "\n",
        "menu_item1 = MenuItem()\n",
        "\n",
        "menu_item1.name = 'サンドイッチ'\n",
        "print(menu_item1.name)\n",
        "\n",
        "menu_item1.price = 500\n",
        "print(menu_item1.price)\n",
        "\n",
        "# MenuItem クラスのインスタンスを生成してください\n",
        "menu_item2  = MenuItem()\n",
        "menu_item2.name = 'チョコケーキ'\n",
        "print(menu_item2.name)\n",
        "\n",
        "menu_item2.price = 400\n",
        "print(menu_item2.price)\n",
        "# menu_item2 の name に「 チョコケーキ 」を代入してください\n",
        "\n",
        "\n",
        "# menu_item2 の name を出力してください\n",
        "\n",
        "\n",
        "# menu_item2 の price に 400 を代入してください\n",
        "\n",
        "\n",
        "# menu_item2 の price を出力してください\n",
        "\n"
      ],
      "metadata": {
        "id": "vOstSm2Vi5ox"
      },
      "execution_count": null,
      "outputs": []
    },
    {
      "cell_type": "markdown",
      "source": [
        "＃クラスの中に処理を追加す\n",
        "クラスの中では関数を定義することができます。クラスの中で定義した関数のことをメソッドと呼びます。\n",
        "メソッドの定義の方法は通常の関数と同じですが、第1引数に**self**を追加する必要があることに注意しましょう。"
      ],
      "metadata": {
        "id": "AKcq4o4zjMVo"
      }
    },
    {
      "cell_type": "code",
      "source": [
        "class MenuItem:\n",
        "    # info メソッドを定義してください\n",
        "    def info(self):\n",
        "      print(\"メニューの名前と値段が表示されます\")\n",
        "      print(self.name)\n",
        "      print(self.price)\n",
        "\n",
        "\n",
        "menu_item1 = MenuItem()\n",
        "menu_item1.name = 'サンドイッチ'\n",
        "menu_item1.price = 500\n",
        "\n",
        "# menu_item1 に対して info メソッドを呼び出してください\n",
        "menu_item1.info()\n",
        "\n",
        "\n",
        "menu_item2 = MenuItem()\n",
        "menu_item2.name = 'チョコケーキ'\n",
        "menu_item2.price = 400\n",
        "\n",
        "# menu_item2 に対して info メソッドを呼び出してください\n",
        "menu_item2.info()\n",
        "\n"
      ],
      "metadata": {
        "colab": {
          "base_uri": "https://localhost:8080/"
        },
        "id": "-c6pNi2NkBuF",
        "outputId": "cf934b6e-b215-44f1-ce5b-db227e0caeb8"
      },
      "execution_count": null,
      "outputs": [
        {
          "output_type": "stream",
          "name": "stdout",
          "text": [
            "メニューの名前と値段が表示されます\n",
            "サンドイッチ\n",
            "500\n",
            "メニューの名前と値段が表示されます\n",
            "チョコケーキ\n",
            "400\n"
          ]
        }
      ]
    },
    {
      "cell_type": "code",
      "source": [
        "#インスタンスメソッド\n",
        "class MenuItem:\n",
        "    def info(self):\n",
        "#「 ○○: ¥□□ 」となるように出力してください\n",
        "        print(self.name +\": ¥\"+str(self.price))\n",
        "\n",
        "\n",
        "menu_item1 = MenuItem()\n",
        "menu_item1.name = 'サンドイッチ'\n",
        "menu_item1.price = 500\n",
        "\n",
        "menu_item1.info()\n",
        "\n",
        "menu_item2 = MenuItem()\n",
        "menu_item2.name = 'チョコケーキ'\n",
        "menu_item2.price = 400\n",
        "\n",
        "menu_item2.info()\n"
      ],
      "metadata": {
        "colab": {
          "base_uri": "https://localhost:8080/"
        },
        "id": "rchSbY5Dql8M",
        "outputId": "c85a5ea2-cf75-45bd-aaff-5d86731d4961"
      },
      "execution_count": null,
      "outputs": [
        {
          "output_type": "stream",
          "name": "stdout",
          "text": [
            "サンドイッチ: ¥500\n",
            "チョコケーキ: ¥400\n"
          ]
        }
      ]
    },
    {
      "cell_type": "code",
      "source": [
        "#戻り値\n",
        "class MenuItem:\n",
        "    def info(self):\n",
        "        # print() の中身を戻り値として返してください\n",
        "        return self.name + ': ¥' + str(self.price)\n",
        "\n",
        "menu_item1 = MenuItem()\n",
        "menu_item1.name = 'サンドイッチ'\n",
        "menu_item1.price = 500\n",
        "\n",
        "# menu_item1.info() の値を出力してください\n",
        "print(menu_item1.info())\n",
        "\n",
        "menu_item2 = MenuItem()\n",
        "menu_item2.name = 'チョコケーキ'\n",
        "menu_item2.price = 400\n",
        "\n",
        "# menu_item2.info() の値を出力してください\n",
        "print(menu_item2.info())\n"
      ],
      "metadata": {
        "colab": {
          "base_uri": "https://localhost:8080/"
        },
        "id": "pRNOwhqRsNLv",
        "outputId": "296be69a-abd0-4057-8341-4a3021890382"
      },
      "execution_count": null,
      "outputs": [
        {
          "output_type": "stream",
          "name": "stdout",
          "text": [
            "サンドイッチ: ¥500\n",
            "チョコケーキ: ¥400\n"
          ]
        }
      ]
    },
    {
      "cell_type": "markdown",
      "source": [
        "#インスタンスメソッド（引数）\n"
      ],
      "metadata": {
        "id": "lm87v7jassKm"
      }
    },
    {
      "cell_type": "code",
      "source": [
        "class MenuItem:\n",
        "    def info(self):\n",
        "        return self.name + ': ¥' + str(self.price)\n",
        "\n",
        "    # get_total_price メソッドを定義してください\n",
        "    def get_total_price(self,count):\n",
        "      total_price = self.price * count\n",
        "      return total_price\n",
        "\n",
        "\n",
        "menu_item1 = MenuItem()\n",
        "menu_item1.name = 'サンドイッチ'\n",
        "menu_item1.price = 500\n",
        "\n",
        "print(menu_item1.info())\n",
        "\n",
        "# get_total_price メソッドを呼び出してください\n",
        "result = menu_item1.get_total_price(4)\n",
        "\n",
        "# 「 合計は〇〇円です 」となるように出力してください\n",
        "print(\"合計は\" + str(result) + \"円です\")\n",
        "\n",
        "menu_item2 = MenuItem()\n",
        "menu_item2.name = 'ストロベリージュース'\n",
        "menu_item2.price = 400\n",
        "\n",
        "print(menu_item2.info())\n",
        "\n",
        "# get_total_price メソッドを呼び出してください\n",
        "result = menu_item2.get_total_price(10)\n",
        "\n",
        "# 「 合計は〇〇円です 」となるように出力してください\n",
        "print(\"合計は\" + str(result) + \"円です\")"
      ],
      "metadata": {
        "colab": {
          "base_uri": "https://localhost:8080/"
        },
        "id": "Dw0kaO9-GMHr",
        "outputId": "1b4d0e52-b313-4a34-f93f-4ff4c0f05793"
      },
      "execution_count": null,
      "outputs": [
        {
          "output_type": "stream",
          "name": "stdout",
          "text": [
            "サンドイッチ: ¥500\n",
            "合計は2000円です\n",
            "ストロベリージュース: ¥400\n",
            "合計は4000円です\n"
          ]
        }
      ]
    },
    {
      "cell_type": "markdown",
      "source": [
        "#__init__メソッド"
      ],
      "metadata": {
        "id": "QICewuEuIH8U"
      }
    },
    {
      "cell_type": "code",
      "source": [
        "class MenuItem:\n",
        "    # __init__ メソッドを定義してください\n",
        "    def __init__(self):\n",
        "        print('MenuItemクラスのインスタンスが生成されました！')\n",
        "\n",
        "    def info(self):\n",
        "        return self.name + ': ¥' + str(self.price)\n",
        "\n",
        "    def get_total_price(self, count):\n",
        "        total_price = self.price * count\n",
        "        return total_price\n",
        "\n",
        "\n",
        "menu_item1 = MenuItem()\n",
        "menu_item1.name = 'サンドイッチ'\n",
        "menu_item1.price = 500\n",
        "\n",
        "print(menu_item1.info())\n",
        "\n",
        "result = menu_item1.get_total_price(4)\n",
        "print('合計は' + str(result) + '円です')\n"
      ],
      "metadata": {
        "id": "3r9phF61IMjm"
      },
      "execution_count": null,
      "outputs": []
    },
    {
      "cell_type": "code",
      "source": [
        "class MenuItem:\n",
        "    def __init__(self):\n",
        "        # self.name に「 サンドイッチ 」を代入してください\n",
        "        self.name = \"サンドイッチ\"\n",
        "        \n",
        "        # self.price に 500 を代入してください\n",
        "        self.price = 500\n",
        "\n",
        "    def info(self):\n",
        "        return self.name + ': ¥' + str(self.price)\n",
        "\n",
        "    def get_total_price(self, count):\n",
        "        total_price = self.price * count\n",
        "        return total_price\n",
        "\n",
        "\n",
        "menu_item1 = MenuItem()\n",
        "# 以下の2行は削除してください\n",
        "#menu_item1.name = 'サンドイッチ'\n",
        "#menu_item1.price = 500\n",
        "\n",
        "print(menu_item1.info())\n",
        "\n",
        "result = menu_item1.get_total_price(4)\n",
        "print('合計は' + str(result) + '円です')"
      ],
      "metadata": {
        "id": "v-zURTs7JDNC"
      },
      "execution_count": null,
      "outputs": []
    },
    {
      "cell_type": "code",
      "source": [
        "class MenuItem:\n",
        "    # 引数 name と price を受け取るようにしてください\n",
        "    def __init__(self,name,price):\n",
        "        # 「 サンドイッチ 」の代わりに引数 name の値を代入してください\n",
        "        self.name =  name\n",
        "        \n",
        "        # 500 の代わりに引数 price の値を代入してください\n",
        "        self.price = price\n",
        "\n",
        "    def info(self):\n",
        "        return self.name + ': ¥' + str(self.price)\n",
        "\n",
        "    def get_total_price(self, count):\n",
        "        total_price = self.price * count\n",
        "        return total_price\n",
        "\n",
        "\n",
        "# 引数を「 サンドイッチ 」と 500 としてください\n",
        "menu_item1 = MenuItem(\"サンドイッチ\",500)\n",
        "\n",
        "print(menu_item1.info())\n",
        "\n",
        "result = menu_item1.get_total_price(4)\n",
        "print('合計は' + str(result) + '円です')"
      ],
      "metadata": {
        "id": "f-zAxDppLNix"
      },
      "execution_count": null,
      "outputs": []
    },
    {
      "cell_type": "markdown",
      "source": [
        "#ファイルの分割\n",
        "モジュールの中のクラスを呼び出す\n",
        "\n",
        "from menu_item import MenuItem"
      ],
      "metadata": {
        "id": "8L3x5oUSM8mY"
      }
    },
    {
      "cell_type": "code",
      "source": [
        "#script.py\n",
        "from menu_item import MenuItem\n",
        "\n",
        "menu_item1 = MenuItem('サンドイッチ', 500)\n",
        "\n",
        "print(menu_item1.info())\n",
        "\n",
        "result = menu_item1.get_total_price(4)\n",
        "print('合計は' + str(result) + '円です')\n",
        "\n",
        "#menu_item.py\n",
        "class MenuItem:\n",
        "    def __init__(self, name, price):\n",
        "        self.name = name\n",
        "        self.price = price\n",
        "\n",
        "    def info(self):\n",
        "        return self.name + ': ¥' + str(self.price)\n",
        "\n",
        "    def get_total_price(self, count):\n",
        "        total_price = self.price * count\n",
        "        return total_price"
      ],
      "metadata": {
        "id": "lpRiyVLbND98"
      },
      "execution_count": null,
      "outputs": []
    },
    {
      "cell_type": "markdown",
      "source": [
        "#インスタンスのリスト"
      ],
      "metadata": {
        "id": "xTiqT3XGTGLM"
      }
    },
    {
      "cell_type": "code",
      "source": [
        "#script.py\n",
        "from menu_item import MenuItem\n",
        "\n",
        "menu_item1 = MenuItem('サンドイッチ', 500)\n",
        "menu_item2 = MenuItem('チョコケーキ', 400)\n",
        "menu_item3 = MenuItem('コーヒー', 300)\n",
        "menu_item4 = MenuItem('オレンジジュース', 200)\n",
        "\n",
        "# 指定されたリストを変数 menu_items に代入してください\n",
        "menu_items = [menu_item1,menu_item2,menu_item3,menu_item4]\n",
        "# for 文を作成してください\n",
        "for item in menu_items:\n",
        "  print(item.info())\n",
        "\n",
        "#menu_item.py\n",
        "class MenuItem:\n",
        "    def __init__(self, name, price):\n",
        "        self.name = name\n",
        "        self.price = price\n",
        "\n",
        "    def info(self):\n",
        "        return self.name + ': ¥' + str(self.price)\n",
        "\n",
        "    def get_total_price(self, count):\n",
        "        total_price = self.price * count\n",
        "        return total_price\n"
      ],
      "metadata": {
        "id": "1hgywJjuTLUw"
      },
      "execution_count": null,
      "outputs": []
    },
    {
      "cell_type": "code",
      "source": [
        "#メニューの作成"
      ],
      "metadata": {
        "id": "4lt97cNIUXY7"
      },
      "execution_count": null,
      "outputs": []
    },
    {
      "cell_type": "code",
      "source": [
        "script.py\n",
        "from menu_item import MenuItem\n",
        "\n",
        "menu_item1 = MenuItem('サンドイッチ', 500)\n",
        "menu_item2 = MenuItem('チョコケーキ', 400)\n",
        "menu_item3 = MenuItem('コーヒー', 300)\n",
        "menu_item4 = MenuItem('オレンジジュース', 200)\n",
        "\n",
        "menu_items = [menu_item1, menu_item2, menu_item3, menu_item4]\n",
        "\n",
        "# 変数 index を定義し、数値の 0 を代入してください\n",
        "index = 0\n",
        "\n",
        "for item in menu_items:\n",
        "    # 「 0. サンドイッチ: ¥500 」となるように出力してください\n",
        "    print(str(index)+\".\"+item.info())\n",
        "    index += 1\n",
        "    # 変数 index に 1 を加えてください\n",
        "    \n",
        "#menu_item.py\n",
        "class MenuItem:\n",
        "    def __init__(self, name, price):\n",
        "        self.name = name\n",
        "        self.price = price\n",
        "\n",
        "    def info(self):\n",
        "        return self.name + ': ¥' + str(self.price)\n",
        "\n",
        "    def get_total_price(self, count):\n",
        "        total_price = self.price * count\n",
        "        return total_price\n"
      ],
      "metadata": {
        "id": "eSDLANO2Uf72"
      },
      "execution_count": null,
      "outputs": []
    },
    {
      "cell_type": "code",
      "source": [
        "from menu_item import MenuItem\n",
        "\n",
        "menu_item1 = MenuItem('サンドイッチ', 500)\n",
        "menu_item2 = MenuItem('チョコケーキ', 400)\n",
        "menu_item3 = MenuItem('コーヒー', 300)\n",
        "menu_item4 = MenuItem('オレンジジュース', 200)\n",
        "\n",
        "menu_items = [menu_item1, menu_item2, menu_item3, menu_item4]\n",
        "\n",
        "index = 0\n",
        "\n",
        "for item in menu_items:\n",
        "    print(str(index) + '. ' + item.info())\n",
        "    index += 1\n",
        "\n",
        "print('--------------------')\n",
        "\n",
        "order = int(input('メニューの番号を入力してください: '))\n",
        "selected_menu = menu_items[order]\n",
        "print('選択されたメニュー: ' + selected_menu.name)\n",
        "\n",
        "# コンソールから入力を受け取り、変数 count に代入してください\n",
        "count = int(input(\"個数を入力してください(3つ以上で1割引): \"))\n",
        "\n",
        "# get_total_price メソッドを呼び出してください\n",
        "result = selected_menu.get_total_price(count)\n",
        "\n",
        "# 「 合計は〇〇円です 」となるように出力してください\n",
        "print(\"合計は\" + str(result) + \"円です\")\n",
        "\n",
        "#menu_item.py\n",
        "class MenuItem:\n",
        "    def __init__(self, name, price):\n",
        "        self.name = name\n",
        "        self.price = price\n",
        "\n",
        "    def info(self):\n",
        "        return self.name + ': ¥' + str(self.price)\n",
        "\n",
        "    def get_total_price(self, count):\n",
        "        total_price = self.price * count\n",
        "        \n",
        "        # count が 3 以上のとき、 total_price に 0.9 をかけてください\n",
        "        if count >= 3:\n",
        "          total_price *= 0.9\n",
        "        \n",
        "        # total_price を四捨五入して、 return してください\n",
        "        return round(total_price)\n"
      ],
      "metadata": {
        "id": "EwSRBbBdcy0b"
      },
      "execution_count": null,
      "outputs": []
    }
  ]
}